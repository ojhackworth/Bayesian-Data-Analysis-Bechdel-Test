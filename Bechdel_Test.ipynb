{
 "cells": [
  {
   "cell_type": "code",
   "execution_count": null,
   "metadata": {},
   "outputs": [],
   "source": [
    "import pandas as pd\n",
    "import numpy as np\n",
    "import os\n",
    "import matplotlib\n",
    "from matplotlib import pyplot as plt\n",
    "import nltk\n",
    "\n",
    "# Set working directory\n",
    "os.chdir(\"/Users/Sam Edds/Desktop/Stats_551\")"
   ]
  },
  {
   "cell_type": "markdown",
   "metadata": {},
   "source": [
    "Connect to Bechdel Test API and pull down all movies"
   ]
  },
  {
   "cell_type": "code",
   "execution_count": null,
   "metadata": {},
   "outputs": [],
   "source": [
    "#Pull down all movies from the Bechdel Test API\n",
    "import json\n",
    "import requests\n",
    "url = \"http://bechdeltest.com/api/v1/getAllMovies\"\n",
    "r = requests.get(url)\n",
    "all_movies = r.json()\n",
    "\n",
    "# Put into pandas df and output text file\n",
    "df_movies = pd.DataFrame(all_movies)\n",
    "df_movies.to_csv(\"all_bechdel.txt\")"
   ]
  },
  {
   "cell_type": "markdown",
   "metadata": {},
   "source": [
    "Now with Bechdel and IMDb information look at variables for abberations"
   ]
  },
  {
   "cell_type": "code",
   "execution_count": null,
   "metadata": {},
   "outputs": [],
   "source": [
    "# Read in merged file from Katherine (all_bechdel is merged with IMDb data)\n",
    "bechdel_full = pd.read_csv(\"bechdel_full.csv\")\n",
    "\n",
    "# Look at full data set for missingness and variable types\n",
    "bechdel_full.info()"
   ]
  },
  {
   "cell_type": "code",
   "execution_count": null,
   "metadata": {},
   "outputs": [],
   "source": [
    "# Remove anything that is not movies (7,521 total obs)\n",
    "bechdel_full = bechdel_full[bechdel_full['titleType'] == 'movie']\n"
   ]
  },
  {
   "cell_type": "code",
   "execution_count": null,
   "metadata": {},
   "outputs": [],
   "source": [
    "# Check if primary title and title do not match\n",
    "bechdel_full['title_match'] = bechdel_full['title'] == bechdel_full['primaryTitle']\n",
    "# Look at differences in title and primary Title\n",
    "bechdel_full['title_match'] = bechdel_full['title_match'].astype('str')\n",
    "bechdel_full[bechdel_full.title_match.str.contains(\"False\")]"
   ]
  },
  {
   "cell_type": "code",
   "execution_count": null,
   "metadata": {},
   "outputs": [],
   "source": [
    "# summarize 'isAdult'\n",
    "bechdel_full.groupby('isAdult').agg(['count'])\n",
    "bechdel_full[bechdel_full['isAdult'] == 1]\n",
    "# Remove from dataset- just 1 adult content movie\n",
    "bechdel_full = bechdel_full[bechdel_full['isAdult'] != 1]"
   ]
  },
  {
   "cell_type": "code",
   "execution_count": null,
   "metadata": {},
   "outputs": [],
   "source": [
    "# Make startYear and year into strings\n",
    "bechdel_full['startYear'] = bechdel_full.startYear.astype('str')\n",
    "bechdel_full['year'] = bechdel_full.year.astype('str')\n",
    "\n",
    "# is startYear different from year? Yes...keep the IMDb variable\n",
    "bechdel_full[bechdel_full['year'] != bechdel_full['startYear']]"
   ]
  },
  {
   "cell_type": "code",
   "execution_count": null,
   "metadata": {},
   "outputs": [],
   "source": [
    "# Remove a few with missing genre\n",
    "bechdel_full = bechdel_full[bechdel_full['genres'] != '\\\\N']\n",
    "\n",
    "# Remove dupes\n",
    "bechdel_full = bechdel_full.drop_duplicates(['imdbid'], keep = 'first')\n",
    "\n",
    "# Make sure 'Terms of Endearment' is a 3 (Bechdel test website note confirmed)\n",
    "bechdel_full['rating'] = np.where(bechdel_full['primaryTitle'] == 'Terms of Endearment', 3, bechdel_full['rating'])"
   ]
  },
  {
   "cell_type": "markdown",
   "metadata": {},
   "source": [
    "Make genre variable into a wide dataframe"
   ]
  },
  {
   "cell_type": "code",
   "execution_count": null,
   "metadata": {},
   "outputs": [],
   "source": [
    "# Parse genre into a wide dataframe of variables\n",
    "\n",
    "# First reset index\n",
    "bechdel_full = bechdel_full.reset_index()\n",
    "\n",
    "# Tokenize genres and make into list of lists\n",
    "def tokenize(df):  \n",
    "    genres = df['genres'].tolist()\n",
    "    tks = [nltk.word_tokenize(x) for x in genres]\n",
    "\n",
    "    movie_genre = list()\n",
    "\n",
    "    # Make into a wide \n",
    "    for title in tks:\n",
    "        # Make a new dictionary and append at the end of each movie\n",
    "        word_cnt = dict()\n",
    "        for word in title:\n",
    "            if not word in word_cnt:\n",
    "                word_cnt[word] = 1\n",
    "            else:\n",
    "                word_cnt[word] += 1\n",
    "        # Append title specific dictionary to list of all dictionaries\n",
    "        movie_genre.append(word_cnt)\n",
    "    \n",
    "    # Wide df with each genre\n",
    "    genre_df = pd.DataFrame(movie_genre)\n",
    "    genre_df = genre_df.fillna(0)\n",
    "    return genre_df\n",
    "\n",
    "# Call function on dataframe\n",
    "genre_df = tokenize(bechdel_full)\n"
   ]
  },
  {
   "cell_type": "code",
   "execution_count": null,
   "metadata": {},
   "outputs": [],
   "source": [
    "# Join by index\n",
    "bechdel_wide = bechdel_full.join(genre_df)\n",
    "# Check number of obs\n",
    "print(len(bechdel_wide))"
   ]
  },
  {
   "cell_type": "markdown",
   "metadata": {},
   "source": [
    "Add Decade and Pass variables"
   ]
  },
  {
   "cell_type": "code",
   "execution_count": null,
   "metadata": {},
   "outputs": [],
   "source": [
    "# Add decade variables\n",
    "bechdel_wide['decade'] = bechdel_wide['startYear'].str[:3] + '0'\n",
    "bechdel_wide['decade'] = np.where(bechdel_wide['decade'] == '1900', '1900-1920',\n",
    "                                  np.where(bechdel_wide['decade'] == '1910', '1900-1920',\n",
    "                                           np.where(bechdel_wide['decade'] == '1920', '1900-1920', bechdel_wide['decade'])))"
   ]
  },
  {
   "cell_type": "code",
   "execution_count": null,
   "metadata": {},
   "outputs": [],
   "source": [
    "# Binary start/end date\n",
    "bechdel_wide['pass'] = np.where(bechdel_wide['rating'] == 3, 1, 0)\n",
    "bechdel_wide['notpass'] = np.where(bechdel_wide['rating'] == 3, 0, 1)"
   ]
  },
  {
   "cell_type": "code",
   "execution_count": null,
   "metadata": {},
   "outputs": [],
   "source": [
    "# Rename unicode column names\n",
    "bechdel_wide = bechdel_wide.rename(columns = {bechdel_wide.columns[15] : 'n_genre'})"
   ]
  },
  {
   "cell_type": "code",
   "execution_count": null,
   "metadata": {},
   "outputs": [],
   "source": [
    "# Remove missing start date\n",
    "bechdel_wide = bechdel_wide[bechdel_wide['startYear'] != '\\\\N']\n",
    "bechdel_wide = bechdel_wide.rename(columns = {'startYear' : 'year'})"
   ]
  },
  {
   "cell_type": "code",
   "execution_count": null,
   "metadata": {},
   "outputs": [],
   "source": [
    "# Clean up runtime Minutes\n",
    "bechdel_wide = bechdel_wide[bechdel_wide['runtimeMinutes'] != '\\\\N']\n",
    "bechdel_wide['runtimeMinutes'] = bechdel_wide['runtimeMinutes'].astype(int)"
   ]
  },
  {
   "cell_type": "code",
   "execution_count": null,
   "metadata": {},
   "outputs": [],
   "source": [
    "# Drop useless variables\n",
    "bechdel_wide = bechdel_wide.drop(['tconst', 'V1', 'id', 'title', 'year',\n",
    "                                  'isAdult', 'genres', 'titleType', 'n_genre',\n",
    "                                  'title_match', 'News'], axis = 1)"
   ]
  },
  {
   "cell_type": "code",
   "execution_count": null,
   "metadata": {},
   "outputs": [],
   "source": [
    "# Output cleaned data set\n",
    "bechdel_wide.to_csv(\"bechdel_cleaned.csv\")"
   ]
  },
  {
   "cell_type": "code",
   "execution_count": null,
   "metadata": {},
   "outputs": [],
   "source": [
    "# Want genre proportions information \n",
    "\n",
    "# Drop additional variables\n",
    "bechdel_trans = bechdel_wide.drop(['index','imdbid', 'year', 'runtimeMinutes', 'decade',\n",
    "                                   'rating', 'primaryTitle'], axis = 1)\n",
    "# Transpose\n",
    "bechdel_trans = bechdel_trans.transpose()\n",
    "# Sum Totals\n",
    "total = bechdel_trans.sum(axis = 1)\n",
    "\n",
    "# Passed sums only\n",
    "passed =  bechdel_wide.drop(['index','imdbid', 'year', 'runtimeMinutes', 'decade',\n",
    "                                   'rating', 'primaryTitle'], axis = 1)\n",
    "passed = passed[passed['pass'] == 1]\n",
    "passed = passed.transpose()\n",
    "total_passed = passed.sum(axis = 1)\n",
    "\n",
    "# Combine into dataframe and output for Olivia\n",
    "total = pd.DataFrame(total)\n",
    "total_passed = pd.DataFrame(total_passed)\n",
    "passed_data = pd.concat([total, total_passed], axis = 1)\n",
    "passed_data.to_csv(\"genre_passed.csv\")\n"
   ]
  }
 ],
 "metadata": {
  "kernelspec": {
   "display_name": "Python 3",
   "language": "python",
   "name": "python3"
  },
  "language_info": {
   "codemirror_mode": {
    "name": "ipython",
    "version": 3
   },
   "file_extension": ".py",
   "mimetype": "text/x-python",
   "name": "python",
   "nbconvert_exporter": "python",
   "pygments_lexer": "ipython3",
   "version": "3.7.1"
  }
 },
 "nbformat": 4,
 "nbformat_minor": 2
}
